{
 "cells": [
  {
   "cell_type": "code",
   "execution_count": 4,
   "metadata": {},
   "outputs": [],
   "source": [
    "import glob\n",
    "import itertools\n",
    "import numpy as np\n",
    "import os\n",
    "\n",
    "import cv2\n",
    "from tqdm.notebook import tqdm"
   ]
  },
  {
   "cell_type": "code",
   "execution_count": 3,
   "metadata": {},
   "outputs": [
    {
     "name": "stdout",
     "output_type": "stream",
     "text": [
      "C:\\Users\\kunwo\\Documents\\Badminton\\src\\etl\\transform\n",
      "C:\\Users\\kunwo\\Documents\\Badminton\n"
     ]
    }
   ],
   "source": [
    "print(os.getcwd())\n",
    "os.chdir('../../../')\n",
    "print(os.getcwd())"
   ]
  },
  {
   "cell_type": "code",
   "execution_count": 6,
   "metadata": {},
   "outputs": [],
   "source": [
    "import src.config as config\n",
    "import src.etl.transform.feature_extract.feature_extract as fe\n",
    "import src.etl.transform.event.event_detect as ed"
   ]
  },
  {
   "cell_type": "code",
   "execution_count": 7,
   "metadata": {},
   "outputs": [],
   "source": [
    "def extract_feature(frame: cv2.Mat) -> tuple[tuple]:\n",
    "    '''\n",
    "    extract_features from frame\n",
    "    PARAMETER:\n",
    "        frame: cv2.Mat - frame to extract features from\n",
    "    RETURN:\n",
    "        tuple(tuple) - features\n",
    "    '''\n",
    "    return (\n",
    "        fe.is_logo_on(frame),\n",
    "        fe.get_score_data(frame),\n",
    "        fe.get_scored_player(frame),\n",
    "    )\n",
    "\n",
    "\n",
    "def util_rangeplay(capture: cv2.VideoCapture, start_frame: int, end_frame: int):\n",
    "    '''\n",
    "    play video with range of frames\n",
    "    PARAMETER:\n",
    "        capture: cv2.VideoCapture - video capture instance\n",
    "    '''\n",
    "    frame_no = capture.set(cv2.CAP_PROP_POS_FRAMES, start_frame)\n",
    "    while True:\n",
    "        keycode = cv2.waitKey(1)\n",
    "        if keycode == ord('q'):\n",
    "            break\n",
    "        elif keycode == ord(' '):\n",
    "            print(frame_no)\n",
    "            cv2.waitKey(0)\n",
    "        \n",
    "        _, frame = capture.read()\n",
    "        cv2.imshow('title', frame)\n",
    "        frame_no = capture.get(cv2.CAP_PROP_POS_FRAMES)\n",
    "        if frame_no >= end_frame:\n",
    "            capture.set(cv2.CAP_PROP_POS_FRAMES, start_frame)"
   ]
  },
  {
   "cell_type": "code",
   "execution_count": 9,
   "metadata": {},
   "outputs": [
    {
     "name": "stdout",
     "output_type": "stream",
     "text": [
      "['videos\\\\videos\\\\2QO1eFfE-HM.mp4', 'videos\\\\videos\\\\60Sf92R8F8o.mp4', 'videos\\\\videos\\\\bmJlSs3URXw.mp4', 'videos\\\\videos\\\\M_mrzG9oodI.mp4', 'videos\\\\videos\\\\qyy-xB_R62g.mp4', 'videos\\\\videos\\\\Sj8UhIVVSmw.mp4', 'videos\\\\videos\\\\smFFECwZOSs.mp4', 'videos\\\\videos\\\\W9JC2Mm3xr4.mp4', 'videos\\\\videos\\\\zdjbltWpEbU.mp4']\n",
      "videos\\videos\\2QO1eFfE-HM.mp4\n",
      "< cv2.VideoCapture 00000273B21DD2B0>\n"
     ]
    }
   ],
   "source": [
    "videos = glob.glob(os.path.join(config.VIDEOS_PATH, '*.mp4'))\n",
    "print(videos)\n",
    "# cv2.namedWindow('title')\n",
    "video_path = videos[0]\n",
    "print(video_path)\n",
    "capture = cv2.VideoCapture(video_path)\n",
    "print(capture)"
   ]
  },
  {
   "cell_type": "code",
   "execution_count": 10,
   "metadata": {},
   "outputs": [
    {
     "data": {
      "application/vnd.jupyter.widget-view+json": {
       "model_id": "4db105873e424c5ebd78ca5a8507e937",
       "version_major": 2,
       "version_minor": 0
      },
      "text/plain": [
       "  0%|          | 0/5000 [00:00<?, ?it/s]"
      ]
     },
     "metadata": {},
     "output_type": "display_data"
    }
   ],
   "source": [
    "start_frame = 100000\n",
    "end_frame = 200000\n",
    "skip_frames = 20\n",
    "\n",
    "sequence = []\n",
    "\n",
    "frame_no = capture.set(cv2.CAP_PROP_POS_FRAMES, start_frame)\n",
    "for frame_no in tqdm(range(start_frame, end_frame, skip_frames)):\n",
    "    if skip_frames >= 10:\n",
    "        capture.set(cv2.CAP_PROP_POS_FRAMES, frame_no)\n",
    "    else:\n",
    "        for _ in range(skip_frames - 1):\n",
    "            capture.read()\n",
    "    frame = capture.read()[1]\n",
    "    features = extract_feature(frame)\n",
    "    sequence.append((frame_no, features))"
   ]
  },
  {
   "cell_type": "code",
   "execution_count": 11,
   "metadata": {},
   "outputs": [
    {
     "name": "stdout",
     "output_type": "stream",
     "text": [
      "111060 game start 1\n",
      "111060 play start\n",
      "111880 score player 1\n",
      "112080 play start\n",
      "114940 score player 2\n",
      "115140 play start\n",
      "115540 score player 2\n",
      "115740 play start\n",
      "116080 score player 2\n",
      "116280 play start\n",
      "116860 score player 1\n",
      "117060 play start\n",
      "117460 score player 2\n",
      "117660 play start\n",
      "118060 score player 1\n",
      "118260 play start\n",
      "118780 score player 2\n",
      "118980 play start\n",
      "119500 score player 2\n",
      "119700 play start\n",
      "120280 score player 1\n",
      "120480 play start\n",
      "121840 score player 1\n",
      "122040 play start\n",
      "123280 score player 2\n",
      "123480 play start\n",
      "124120 score player 1\n",
      "124320 play start\n",
      "124780 score player 1\n",
      "124980 play start\n",
      "125500 score player 2\n",
      "125700 play start\n",
      "126640 score player 1\n",
      "126840 play start\n",
      "127420 score player 1\n",
      "127620 play start\n",
      "128560 score player 2\n",
      "128760 play start\n",
      "129220 score player 2\n",
      "129420 play start\n",
      "130060 score player 1\n",
      "130260 play start\n",
      "131620 score player 1\n",
      "131820 play start\n",
      "134080 score player 1\n",
      "134280 play start\n",
      "134860 score player 2\n",
      "135060 play start\n",
      "136420 score player 1\n",
      "136620 play start\n",
      "137680 score player 1\n",
      "137880 play start\n",
      "138460 score player 1\n",
      "138660 play start\n",
      "139300 score player 1\n",
      "139500 play start\n",
      "140140 score player 2\n",
      "140340 play start\n",
      "141280 score player 1\n",
      "141480 play start\n",
      "142180 score player 1\n",
      "142380 play start\n",
      "143080 score player 2\n",
      "143280 play start\n",
      "143740 score player 1\n",
      "143940 play start\n",
      "144700 score player 1\n",
      "144900 play start\n",
      "146380 score player 2\n",
      "146580 play start\n",
      "146980 score player 1\n",
      "151780 game end 1\n",
      "151800 game start 2\n",
      "151800 play start\n",
      "151800 score player 2\n",
      "152000 play start\n",
      "152320 score player 2\n",
      "152520 play start\n",
      "152920 score player 2\n",
      "153120 play start\n",
      "153280 score player 2\n",
      "153480 play start\n",
      "153940 score player 1\n",
      "154140 play start\n",
      "154780 score player 1\n",
      "154980 play start\n",
      "155680 score player 2\n",
      "155880 play start\n",
      "156400 score player 1\n",
      "156600 play start\n",
      "157120 score player 1\n",
      "157320 play start\n",
      "157660 score player 1\n",
      "157860 play start\n",
      "158380 score player 1\n",
      "158580 play start\n",
      "159580 score player 1\n",
      "159780 play start\n",
      "161320 score player 1\n",
      "161520 play start\n",
      "161980 score player 2\n",
      "162180 play start\n",
      "162760 score player 2\n",
      "162960 play start\n",
      "163600 score player 2\n",
      "163800 play start\n",
      "164500 score player 1\n",
      "164700 play start\n",
      "165940 score player 2\n",
      "166140 play start\n",
      "166960 score player 1\n",
      "167160 play start\n",
      "168880 score player 1\n",
      "169080 play start\n",
      "171520 score player 1\n",
      "171720 play start\n",
      "172360 score player 2\n",
      "172560 play start\n",
      "173440 score player 2\n",
      "173640 play start\n",
      "174400 score player 2\n",
      "174600 play start\n",
      "175060 score player 1\n",
      "175260 play start\n",
      "175780 score player 1\n",
      "175980 play start\n",
      "176440 score player 1\n",
      "176640 play start\n",
      "177700 score player 1\n",
      "177900 play start\n",
      "179560 score player 2\n",
      "179760 play start\n",
      "180580 score player 2\n",
      "180780 play start\n",
      "181420 score player 2\n",
      "181620 play start\n",
      "182020 score player 2\n",
      "182220 play start\n",
      "182680 score player 2\n",
      "182880 play start\n",
      "183460 score player 2\n",
      "183660 play start\n",
      "184240 score player 1\n",
      "184440 play start\n",
      "185680 score player 1\n",
      "185880 play start\n",
      "187180 score player 1\n",
      "187380 play start\n",
      "188080 score player 1\n",
      "188280 play start\n",
      "189340 score player 2\n",
      "189540 play start\n",
      "190600 score player 2\n",
      "190800 play start\n",
      "191500 score player 1\n",
      "191700 play start\n",
      "192940 score player 2\n",
      "193140 play start\n",
      "194200 score player 1\n",
      "194400 play start\n",
      "195160 score player 2\n",
      "195360 play start\n",
      "196480 score player 1\n",
      "196680 play start\n",
      "197740 score player 1\n"
     ]
    }
   ],
   "source": [
    "events = ed.event_detection(sequence)\n",
    "for frame_no, tag in events:\n",
    "    print(frame_no, tag)"
   ]
  }
 ],
 "metadata": {
  "kernelspec": {
   "display_name": "Python 3 (ipykernel)",
   "language": "python",
   "name": "python3"
  },
  "language_info": {
   "codemirror_mode": {
    "name": "ipython",
    "version": 3
   },
   "file_extension": ".py",
   "mimetype": "text/x-python",
   "name": "python",
   "nbconvert_exporter": "python",
   "pygments_lexer": "ipython3",
   "version": "3.9.7"
  },
  "vscode": {
   "interpreter": {
    "hash": "80b057453a28bd7751b83d1dff7efd5d9c8ac1e2fbebc34701a458666e9568db"
   }
  }
 },
 "nbformat": 4,
 "nbformat_minor": 2
}
