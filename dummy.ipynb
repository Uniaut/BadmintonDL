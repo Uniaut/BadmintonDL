{
 "cells": [
  {
   "cell_type": "code",
   "execution_count": 2,
   "metadata": {},
   "outputs": [],
   "source": [
    "import glob\n",
    "import numpy as np\n",
    "\n",
    "import cv2"
   ]
  },
  {
   "cell_type": "code",
   "execution_count": 30,
   "metadata": {},
   "outputs": [],
   "source": [
    "def mask_image(image: cv2.Mat):\n",
    "    # mask using fillpoly\n",
    "    mask = np.zeros(image.shape[:2], dtype=np.uint8)\n",
    "    a = 300\n",
    "    b = 100\n",
    "    mask = cv2.fillPoly(\n",
    "        mask,\n",
    "        [\n",
    "            np.array([[a, 100], [b, image.shape[0]], [image.shape[1] - b, image.shape[0]], [image.shape[1] - a, 100],])\n",
    "        ],\n",
    "        255,\n",
    "    )\n",
    "    return cv2.bitwise_and(image, image, mask=mask)\n",
    "\n",
    "# load images as imread from dummy folder\n",
    "images = glob.glob('dummy/*.png')\n",
    "for image in images:\n",
    "    frame = cv2.imread(image)\n",
    "    \n",
    "    # delete useless margins\n",
    "    frame = mask_image(frame)\n",
    "    # to gray scale\n",
    "    gray = cv2.cvtColor(frame, cv2.COLOR_BGR2GRAY)\n",
    "    clahe = cv2.createCLAHE(clipLimit=2.0, tileGridSize=(8, 8))\n",
    "    gray = clahe.apply(gray)\n",
    "    gray = cv2.GaussianBlur(gray, (5, 5), 0)\n",
    "    cv2.imshow('original', gray)\n",
    "    # threshold\n",
    "    thresh = cv2.threshold(gray, 210, 255, cv2.THRESH_BINARY)[1]\n",
    "    canny = cv2.Canny(thresh, 75, 200)\n",
    "    cv2.imshow('canny', canny)\n",
    "    # hough transform and draw lines\n",
    "    lines = cv2.HoughLines(canny, 1, np.pi / 90, 100)\n",
    "    if lines is None:\n",
    "        continue\n",
    "\n",
    "    # draw lines\n",
    "    canny = cv2.cvtColor(canny, cv2.COLOR_GRAY2BGR)\n",
    "    thresh_draw = canny.copy()\n",
    "    for line in lines:\n",
    "        rho, theta = *line[0],\n",
    "        a = np.cos(theta)\n",
    "        b = np.sin(theta)\n",
    "        x0 = a * rho\n",
    "        y0 = b * rho\n",
    "        x1 = int(x0 + 10000 * (-b))\n",
    "        y1 = int(y0 + 10000 * (a))\n",
    "        x2 = int(x0 - 10000 * (-b))\n",
    "        y2 = int(y0 - 10000 * (a))\n",
    "\n",
    "        cv2.line(thresh_draw, (x1, y1), (x2, y2), (0, 255, 0), 1)\n",
    "\n",
    "    # show with blended thresh and lines\n",
    "    cv2.imshow('frame', cv2.addWeighted(canny, 0.2, thresh_draw, 0.8, 0))\n",
    "    cv2.waitKey(0)\n",
    "cv2.destroyAllWindows()"
   ]
  }
 ],
 "metadata": {
  "kernelspec": {
   "display_name": "Python 3.9.7 ('venv': venv)",
   "language": "python",
   "name": "python3"
  },
  "language_info": {
   "codemirror_mode": {
    "name": "ipython",
    "version": 3
   },
   "file_extension": ".py",
   "mimetype": "text/x-python",
   "name": "python",
   "nbconvert_exporter": "python",
   "pygments_lexer": "ipython3",
   "version": "3.9.7"
  },
  "orig_nbformat": 4,
  "vscode": {
   "interpreter": {
    "hash": "80b057453a28bd7751b83d1dff7efd5d9c8ac1e2fbebc34701a458666e9568db"
   }
  }
 },
 "nbformat": 4,
 "nbformat_minor": 2
}
